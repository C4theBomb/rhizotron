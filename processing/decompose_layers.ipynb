{
 "cells": [
  {
   "cell_type": "code",
   "execution_count": 1,
   "metadata": {},
   "outputs": [],
   "source": [
    "import os\n",
    "import cv2\n",
    "import numpy as np\n",
    "import pandas as pd\n",
    "\n",
    "from root_analysis import find_root_count, find_total_root_length, find_total_root_area, find_root_diameter, find_total_root_volume"
   ]
  },
  {
   "cell_type": "code",
   "execution_count": 2,
   "metadata": {},
   "outputs": [],
   "source": [
    "def get_image_filenames(directory, recursive=False):\n",
    "    image_filenames = []\n",
    "\n",
    "    if recursive:\n",
    "        for root, _, files in os.walk(directory):\n",
    "            for filename in files:\n",
    "                if filename.lower().endswith(('.png', '.jpg', '.jpeg')):\n",
    "                    image_filenames.append(os.path.join(root, filename))\n",
    "    else:\n",
    "        for filename in os.listdir(directory):\n",
    "            if filename.lower().endswith(('.png', '.jpg', '.jpeg')):\n",
    "                image_filenames.append(os.path.join(directory, filename))\n",
    "\n",
    "    return image_filenames"
   ]
  },
  {
   "cell_type": "code",
   "execution_count": 3,
   "metadata": {},
   "outputs": [],
   "source": [
    "def calculate_metrics(image: np.ndarray, scaling_factor: float) -> dict:\n",
    "    root_count = find_root_count(image)\n",
    "\n",
    "    if root_count == 0:\n",
    "        return {\n",
    "            'root_count': 0,\n",
    "            'root_length': 0,\n",
    "            'avg_root_length': 0,\n",
    "            'root_area': 0,\n",
    "            'avg_root_area': 0,\n",
    "            'avg_diameter': 0,\n",
    "            'root_volume': 0,\n",
    "            'avg_root_volume': 0\n",
    "        }\n",
    "\n",
    "    root_length = find_total_root_length(image, scaling_factor)\n",
    "    avg_root_length = root_length / root_count\n",
    "    root_area = find_total_root_area(image, scaling_factor)\n",
    "    avg_root_area = root_area / root_count\n",
    "    avg_diameter = find_root_diameter(image, scaling_factor)\n",
    "    root_volume = find_total_root_volume(image, scaling_factor)\n",
    "    avg_root_volume = root_volume / root_count\n",
    "\n",
    "    return {\n",
    "        'root_count': root_count,\n",
    "        'root_length': root_length,\n",
    "        'avg_root_length': avg_root_length,\n",
    "        'root_area': root_area,\n",
    "        'avg_root_area': avg_root_area,\n",
    "        'avg_diameter': avg_diameter,\n",
    "        'root_volume': root_volume,\n",
    "        'avg_root_volume': avg_root_volume\n",
    "    }"
   ]
  },
  {
   "cell_type": "code",
   "execution_count": 4,
   "metadata": {},
   "outputs": [],
   "source": [
    "image_filenames = get_image_filenames('mrphotos/output', recursive=True)"
   ]
  },
  {
   "cell_type": "code",
   "execution_count": 5,
   "metadata": {},
   "outputs": [],
   "source": [
    "measurements = pd.DataFrame(columns=['image', 'layer', 'root_count', 'root_length',\n",
    "                            'avg_root_length', 'root_area', 'avg_root_area', 'avg_diameter', 'root_volume', 'avg_root_volume'])"
   ]
  },
  {
   "cell_type": "code",
   "execution_count": 6,
   "metadata": {},
   "outputs": [],
   "source": [
    "for image_filename in image_filenames:\n",
    "    tube_lower_end = int(os.path.basename(image_filename).split('_')[2].removeprefix('L').removesuffix('.png').split('-')[0])\n",
    "    tube_higher_end = int(os.path.basename(image_filename).split('_')[2].removeprefix('L').removesuffix('.png').split('-')[1])\n",
    "    segments = tube_higher_end - tube_lower_end + 1\n",
    "\n",
    "    image = cv2.imread(image_filename, cv2.IMREAD_GRAYSCALE)\n",
    "    segment_width = image.shape[1] // segments\n",
    "\n",
    "    for layer in range(tube_lower_end, tube_higher_end + 1):\n",
    "        segment = image[:, (layer - 1) * segment_width:layer * segment_width]\n",
    "        metrics = calculate_metrics(segment, 0.2581)\n",
    "\n",
    "        measurements.loc[len(measurements)] = {\n",
    "            'image': image_filename,\n",
    "            'layer': layer,\n",
    "            **metrics\n",
    "        }"
   ]
  },
  {
   "cell_type": "code",
   "execution_count": 8,
   "metadata": {},
   "outputs": [],
   "source": [
    "measurements.to_csv('analysis/layered_measurements.csv', index=False)"
   ]
  }
 ],
 "metadata": {
  "kernelspec": {
   "display_name": "Python 3",
   "language": "python",
   "name": "python3"
  },
  "language_info": {
   "codemirror_mode": {
    "name": "ipython",
    "version": 3
   },
   "file_extension": ".py",
   "mimetype": "text/x-python",
   "name": "python",
   "nbconvert_exporter": "python",
   "pygments_lexer": "ipython3",
   "version": "3.11.5"
  }
 },
 "nbformat": 4,
 "nbformat_minor": 2
}
