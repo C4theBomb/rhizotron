{
 "cells": [
  {
   "cell_type": "code",
   "execution_count": 1,
   "metadata": {},
   "outputs": [],
   "source": [
    "import os\n",
    "\n",
    "import numpy as np\n",
    "import pandas as pd\n",
    "import cv2"
   ]
  },
  {
   "cell_type": "code",
   "execution_count": 5,
   "metadata": {},
   "outputs": [],
   "source": [
    "image_filepaths = []\n",
    "\n",
    "for root, dirs, files in os.walk('./analysis/mask'):\n",
    "    for file in files:\n",
    "        if file.lower().endswith(('.png', '.jpg', '.jpeg')):\n",
    "            image_filepaths.append(os.path.join(root, file))"
   ]
  },
  {
   "cell_type": "code",
   "execution_count": 8,
   "metadata": {},
   "outputs": [],
   "source": [
    "df = pd.DataFrame([], columns=['Date', 'DPI', 'Tube', 'Level', 'Path'])\n",
    "\n",
    "for index, filepath in enumerate(image_filepaths):\n",
    "    filename_parts = filepath.split('/')\n",
    "    date = filename_parts[3].split('_')[0]\n",
    "    dpi = filename_parts[3].split('_')[2].removesuffix('dpi')\n",
    "    tube = filename_parts[4].split('_')[1].removeprefix('T')\n",
    "    level = filename_parts[4].split('_')[2].removeprefix('L').removesuffix('.PNG')\n",
    "    df.loc[index] = ([date, dpi, tube, level, filepath])\n",
    "\n",
    "df['Date'] = pd.to_datetime(df['Date'], format='%m%d%Y')\n",
    "df['DPI'] = df['DPI'].astype(int)\n",
    "df['Tube'] = df['Tube'].astype(int)\n",
    "df['Level'] = df['Level'].astype(int)\n",
    "\n",
    "df.sort_values(by=['Date', 'Tube', 'Level'], inplace=True)"
   ]
  },
  {
   "cell_type": "code",
   "execution_count": 9,
   "metadata": {},
   "outputs": [],
   "source": [
    "for name, group in df.groupby(['Date', 'Tube']):\n",
    "    images = [cv2.imread(row['Path']) for index, row in group.iterrows()]\n",
    "    min_level = group['Level'].min()\n",
    "    max_level = group['Level'].max()\n",
    "    for index in range(0, len(images) - 1):\n",
    "        if group['DPI'].mean() == 100:\n",
    "            images[index] = images[index][:, :-50, :]\n",
    "        elif group['DPI'].mean() == 300:\n",
    "            images[index] = images[index][:, :, :]\n",
    "    \n",
    "    image = np.concatenate(images, axis=1)\n",
    "\n",
    "    if not os.path.exists(f'./mrphotos/output/{name[0].strftime(\"%m%d%Y\")}'):\n",
    "        os.makedirs(f'./mrphotos/output/{name[0].strftime(\"%m%d%Y\")}')\n",
    "    cv2.imwrite(f'./mrphotos/output/{name[0].strftime(\"%m%d%Y\")}/CS_T{name[1]}_L{min_level}-{max_level}.png', image)"
   ]
  }
 ],
 "metadata": {
  "kernelspec": {
   "display_name": "Python 3",
   "language": "python",
   "name": "python3"
  },
  "language_info": {
   "codemirror_mode": {
    "name": "ipython",
    "version": 3
   },
   "file_extension": ".py",
   "mimetype": "text/x-python",
   "name": "python",
   "nbconvert_exporter": "python",
   "pygments_lexer": "ipython3",
   "version": "3.11.5"
  }
 },
 "nbformat": 4,
 "nbformat_minor": 2
}
